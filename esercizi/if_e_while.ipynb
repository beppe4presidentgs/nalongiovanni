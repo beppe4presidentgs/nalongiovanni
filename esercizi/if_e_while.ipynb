{
  "cells": [
    {
      "cell_type": "markdown",
      "metadata": {
        "id": "HB3XbPDcSqe1"
      },
      "source": [
        "# Esercizi IF"
      ]
    },
    {
      "cell_type": "code",
      "execution_count": 8,
      "metadata": {
        "id": "0U7L9A29RfeT"
      },
      "outputs": [
        {
          "name": "stdout",
          "output_type": "stream",
          "text": [
            "Dispari\n"
          ]
        }
      ],
      "source": [
        "# Es 4.1: Ottenere dall'utente un numero in input e scrivere a schermo \"Pari\" se il numero è pari, scrivere \"Dispari\" altrimenti\n",
        "x = int(input())  \n",
        "if x%2==0 :\n",
        "    print (\"Pari\")\n",
        "else: \n",
        "    print(\"Dispari\")"
      ]
    },
    {
      "cell_type": "code",
      "execution_count": 14,
      "metadata": {
        "id": "gE3RVr9ORuwP"
      },
      "outputs": [
        {
          "name": "stdout",
          "output_type": "stream",
          "text": [
            "Non è un triangolo\n"
          ]
        }
      ],
      "source": [
        "# Es 4.2: Ottenere dall'utente tre angoli caso siano i tre angoli di un triangolo scrivere a schermo \"È un triangolo\", altrimenti \"Non è un triangolo\"\n",
        "a =float (input())\n",
        "b =float (input())\n",
        "c =float (input())\n",
        "\n",
        "if a+b+c==180 and 0<a and 0<b and 0<c :\n",
        "    print (\"è un triangolo\")\n",
        "\n",
        "else :\n",
        "    print (\"Non è un triangolo\")\n",
        "\n"
      ]
    },
    {
      "cell_type": "code",
      "execution_count": 3,
      "metadata": {
        "id": "r1A_DavcSKgi"
      },
      "outputs": [
        {
          "name": "stdout",
          "output_type": "stream",
          "text": [
            "non è un triangolo\n"
          ]
        }
      ],
      "source": [
        "# Es 4.3: Ottenuti dall'utente tre angoli di un tringolo scrivere a schermo se i tre angoli descrivono un triangolo rettangolo o no\n",
        "a =float (input())\n",
        "b =float (input())\n",
        "c =float (input())\n",
        "\n",
        "if a+b+c==180 and a>0 and b>0 and c>0 :\n",
        "    if a==90 or b==90 or c==90:\n",
        "        print (\"è un triangolo rettangolo\")\n",
        "\n",
        "\n",
        "    else: \n",
        "        print(\"non è un triangolo rettangolo\")\n",
        "\n",
        "else: \n",
        "    print(\"non è un triangolo\")"
      ]
    },
    {
      "cell_type": "code",
      "execution_count": 5,
      "metadata": {
        "id": "iA9D4X_GSims"
      },
      "outputs": [
        {
          "name": "stdout",
          "output_type": "stream",
          "text": [
            "non è un triangolo equilatero\n"
          ]
        }
      ],
      "source": [
        "# Es 4.4: Ottenuti dall'utente tre angoli di un tringolo scrivere a schermo se i tre angoli descrivono un triangolo equilatero o no\n",
        "a =float (input())\n",
        "b =float (input())\n",
        "c =float (input())\n",
        "\n",
        "if a+b+c==180 and a>0 and b>0 and c>0 :\n",
        "    if a==60 and b==60 and c==60:\n",
        "        print (\"è un triangolo equilatero\")\n",
        "    else: \n",
        "        print (\"non è un triangolo equilatero\")\n",
        "\n",
        "\n",
        "else: \n",
        "    print(\"non è un triangolo\")"
      ]
    },
    {
      "cell_type": "code",
      "execution_count": 25,
      "metadata": {
        "id": "8q4gadoTSU7J"
      },
      "outputs": [
        {
          "name": "stdout",
          "output_type": "stream",
          "text": [
            "non è un triangoplo\n"
          ]
        }
      ],
      "source": [
        "# Es 4.5: Ottenuti dall'utente tre angoli di un tringolo scrivere a schermo se i tre angoli descrivono un triangolo isocele o no\n",
        "a =float (input())\n",
        "b =float (input())\n",
        "c =float (input())\n",
        "\n",
        "if a+b+c==180 :\n",
        "    if a==b or b==c or c==a:\n",
        "        print (\"è un triangolo isoscele\")\n",
        "    else: \n",
        "        print(\"non è un triangolo isoscele\")\n",
        "else :\n",
        "    print(\"non è un triangoplo\")"
      ]
    },
    {
      "cell_type": "code",
      "execution_count": 11,
      "metadata": {
        "id": "yVIE2kK3SYlq"
      },
      "outputs": [
        {
          "name": "stdout",
          "output_type": "stream",
          "text": [
            "è un triangolo scaleno\n"
          ]
        }
      ],
      "source": [
        "# Es 4.6: Ottenuti dall'utente tre angoli di un tringolo scrivere a schermo se i tre angoli descrivono un triangolo\n",
        "# isocele, rettagolo, equilatero o scaleno\n",
        "\n",
        "\n",
        "a =float (input())\n",
        "b =float (input())\n",
        "c =float (input())\n",
        "\n",
        "if a+b+c==180 and a>0 and b>0 and c>0 :\n",
        "    if a==b and b==c and c==a:\n",
        "        print (\"è un triangolo equilatero\")\n",
        "    \n",
        "    else :\n",
        "        if a==b or b==c or c==a:\n",
        "             print (\"è un triangolo isoscele\")\n",
        "\n",
        "        else :\n",
        "            if a==90 or b==90 or c==90:\n",
        "                  print (\"è un triangolo rettangolo\")\n",
        "\n",
        "            else : \n",
        "                print (\"è un triangolo scaleno\")\n",
        "\n",
        "else: \n",
        "    print(\"non è un triangolo\")"
      ]
    },
    {
      "cell_type": "markdown",
      "metadata": {
        "id": "ef5snVxLqeQh"
      },
      "source": [
        "# Esercizi WHILE\n"
      ]
    },
    {
      "cell_type": "code",
      "execution_count": 14,
      "metadata": {
        "id": "j61RqiHxqdmh"
      },
      "outputs": [
        {
          "name": "stdout",
          "output_type": "stream",
          "text": [
            "5\n",
            "5\n",
            "5\n"
          ]
        }
      ],
      "source": [
        "# Es 4.7: Creare una funzione print_n(n,v) che stampi n volte il. contenuto di v\n",
        "\n",
        "v=input(\"scrivi il contenuto che vuoi ripetere\")\n",
        "n=int(input(\"scrivi quante volte lo vuoi ripetere\"))\n",
        "i=0\n",
        "while i<n :\n",
        "    print (v)\n",
        "    i=i+1\n",
        "\n"
      ]
    },
    {
      "cell_type": "code",
      "execution_count": 26,
      "metadata": {
        "colab": {
          "base_uri": "https://localhost:8080/"
        },
        "id": "-6lAm-hfq9w9",
        "outputId": "399e82ba-3cfe-475f-f8df-0e156677ec75"
      },
      "outputs": [
        {
          "name": "stdout",
          "output_type": "stream",
          "text": [
            "il numero inserito è divisibile per \n",
            "1\n",
            "2\n",
            "4\n",
            "8\n"
          ]
        }
      ],
      "source": [
        "# Es 4.8: Inserito il numero n dire per quali numeri, compresi tra 1 e n, è divisibile.\n",
        "# Inserisco 10: stampo 1,2,5\n",
        "# Inserisco 7: stampo 1\n",
        "\n",
        "n=int(input(\"Inserisci un numero intero\"))\n",
        "i=1\n",
        "\n",
        "print (\"il numero inserito è divisibile per \")\n",
        "\n",
        "while i<=n :\n",
        "    if n%i==0 :\n",
        "        print (i)\n",
        "    \n",
        "    i=i+1\n"
      ]
    },
    {
      "cell_type": "code",
      "execution_count": 18,
      "metadata": {
        "colab": {
          "base_uri": "https://localhost:8080/"
        },
        "id": "GjC4LdR7rP-b",
        "outputId": "9f539b4d-c307-479a-da13-610a7e1cc46e"
      },
      "outputs": [
        {
          "name": "stdout",
          "output_type": "stream",
          "text": [
            "Il numero inserito è primo\n",
            "Il numero inserito non è primo\n",
            "Il numero inserito non è primo\n",
            "Il numero inserito non è primo\n",
            "Il numero inserito non è primo\n",
            "Il numero inserito non è primo\n",
            "Il numero inserito è primo\n"
          ]
        }
      ],
      "source": [
        "# Es 4.9: Inserito il numero n dire se è primo o no\n",
        "\n",
        "n=int(input(\"Inserisci un numero naturale\"))\n",
        "i=1\n",
        "\n",
        "while i<=n :\n",
        "    if n%i==0 :\n",
        "        print(\"Il numero inserito è primo\")\n",
        "\n",
        "    else :\n",
        "        print(\"Il numero inserito non è primo\")\n",
        "    \n",
        "    i=i+1\n"
      ]
    },
    {
      "cell_type": "code",
      "execution_count": 16,
      "metadata": {
        "colab": {
          "base_uri": "https://localhost:8080/"
        },
        "id": "CxtWnOdHsTv4",
        "outputId": "5d874410-cb07-46a2-9c22-83d541b7a91a"
      },
      "outputs": [
        {
          "name": "stdout",
          "output_type": "stream",
          "text": [
            "30.0\n"
          ]
        }
      ],
      "source": [
        "# Es 4.10: Creare la funzione moltiplica che restituisce il prodotto tra due numeri senza utilizzare *\n",
        "# 3*4 è uguale a 4+4+4\n",
        "\n",
        "a=float(input(\"scrivi il moltiplicatore\"))\n",
        "b=float(input(\"scrivi quante volte lo vuoi ripetere\"))\n",
        "c=a\n",
        "i=1\n",
        "\n",
        "while i<b:\n",
        "    c=c+a\n",
        "    i=i+1\n",
        "print(c)"
      ]
    }
  ],
  "metadata": {
    "colab": {
      "provenance": []
    },
    "kernelspec": {
      "display_name": "Python 3",
      "name": "python3"
    },
    "language_info": {
      "codemirror_mode": {
        "name": "ipython",
        "version": 3
      },
      "file_extension": ".py",
      "mimetype": "text/x-python",
      "name": "python",
      "nbconvert_exporter": "python",
      "pygments_lexer": "ipython3",
      "version": "3.10.8"
    }
  },
  "nbformat": 4,
  "nbformat_minor": 0
}
